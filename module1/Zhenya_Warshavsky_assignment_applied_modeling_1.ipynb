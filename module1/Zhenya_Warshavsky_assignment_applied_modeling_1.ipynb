{
 "cells": [
  {
   "cell_type": "markdown",
   "metadata": {
    "colab_type": "text",
    "id": "nCc3XZEyG3XV"
   },
   "source": [
    "Lambda School Data Science\n",
    "\n",
    "*Unit 2, Sprint 3, Module 1*\n",
    "\n",
    "---\n",
    "\n",
    "\n",
    "# Define ML problems\n",
    "\n",
    "You will use your portfolio project dataset for all assignments this sprint.\n",
    "\n",
    "## Assignment\n",
    "\n",
    "Complete these tasks for your project, and document your decisions.\n",
    "\n",
    "- [x] Choose your target. Which column in your tabular dataset will you predict?\n",
    "- [x] Choose which observations you will use to train, validate, and test your model. And which observations, if any, to exclude.\n",
    "- [x] Determine whether your problem is regression or classification.\n",
    "- [ ] Choose your evaluation metric.\n",
    "- [ ] Begin to clean and explore your data.\n",
    "- [ ] Begin to choose which features, if any, to exclude. Would some features \"leak\" information from the future?\n"
   ]
  },
  {
   "cell_type": "code",
   "execution_count": 8,
   "metadata": {},
   "outputs": [],
   "source": [
    "import pandas as pd \n",
    "import numpy as np \n",
    "import pickle\n",
    "import pandas_profiling"
   ]
  },
  {
   "cell_type": "code",
   "execution_count": 11,
   "metadata": {},
   "outputs": [],
   "source": [
    "#import PKL Dataset ready for explortation \n",
    "\n",
    "infile = open(\"/Users/user/Documents/GitHub/MIR/Spotify/master_list2.pkl\",'rb')\n",
    "df = pickle.load(infile)"
   ]
  },
  {
   "cell_type": "markdown",
   "metadata": {},
   "source": [
    "The target I am choosing for my dataset is \"not_skipped\" which has a 34% recurrence (below the recommended 70%). \n",
    "\n",
    "**Keeping feature for indexing**\n",
    "\n",
    "* track_id\n",
    "\n",
    "**Target:**\n",
    "\n",
    "* not_skipped\n",
    "\n",
    "**Observations:**\n",
    "\n",
    "* session_position\n",
    "* session_length\n",
    "* skip_1\n",
    "* skip_2\n",
    "* skip_3\n",
    "* context_switch\n",
    "* no_pause_before_play\n",
    "* short_pause_before_play\n",
    "* long_pause_before_play\n",
    "* hist_user_behavior_n_seekfwd\n",
    "* hist_user_behavior_n_seekback\n",
    "* hist_user_behavior_is_shuffle\n",
    "* hour_of_day\n",
    "* context_type\n",
    "* hist_user_behavior_reason_start\n",
    "* hist_user_behavior_reason_end\n",
    "* duration\n",
    "* release_year\n",
    "* us_popularity_estimate\n",
    "* acousticness\n",
    "* beat_strength\n",
    "* bounciness\n",
    "* danceability\n",
    "* dyn_range_mean\n",
    "* energy\n",
    "* flatness\n",
    "* instrumentalness\n",
    "* key\n",
    "* liveness\n",
    "* loudness\n",
    "* mechanism\n",
    "* mode\n",
    "* organism\n",
    "* speechiness\n",
    "* tempo\n",
    "* time_signature\n",
    "* valence"
   ]
  },
  {
   "cell_type": "code",
   "execution_count": null,
   "metadata": {},
   "outputs": [],
   "source": [
    "profile = df.profile_report(title='Pandas Profiling Report')"
   ]
  },
  {
   "cell_type": "code",
   "execution_count": null,
   "metadata": {},
   "outputs": [],
   "source": [
    "profile.to_file(output_file=\"Spotify_data_profile.html\")"
   ]
  }
 ],
 "metadata": {
  "colab": {
   "collapsed_sections": [],
   "name": "assignment_applied_modeling_1.ipynb",
   "provenance": [],
   "version": "0.3.2"
  },
  "kernelspec": {
   "display_name": "Python 3",
   "language": "python",
   "name": "python3"
  },
  "language_info": {
   "codemirror_mode": {
    "name": "ipython",
    "version": 3
   },
   "file_extension": ".py",
   "mimetype": "text/x-python",
   "name": "python",
   "nbconvert_exporter": "python",
   "pygments_lexer": "ipython3",
   "version": "3.7.3"
  }
 },
 "nbformat": 4,
 "nbformat_minor": 4
}
